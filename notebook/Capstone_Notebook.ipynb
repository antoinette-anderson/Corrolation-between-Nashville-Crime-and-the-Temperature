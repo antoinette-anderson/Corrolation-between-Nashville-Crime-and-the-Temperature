{
 "cells": [
  {
   "cell_type": "code",
   "execution_count": 2,
   "id": "b91e5c26",
   "metadata": {},
   "outputs": [],
   "source": [
    "import pandas as pd\n",
    "import matplotlib as mp\n",
    "import seaborn as sns\n",
    "import numpy as np\n"
   ]
  },
  {
   "cell_type": "markdown",
   "id": "2b704a2d",
   "metadata": {},
   "source": [
    "NASHVILLE CRIME DF"
   ]
  },
  {
   "cell_type": "code",
   "execution_count": 3,
   "id": "c846fdb4",
   "metadata": {},
   "outputs": [],
   "source": [
    "nashvillecrime_df=pd.read_csv(\"..\\data\\Metro_Nashville_Police_Department_Incidents_20240215.csv\")"
   ]
  },
  {
   "cell_type": "code",
   "execution_count": 8,
   "id": "4a117d18",
   "metadata": {},
   "outputs": [
    {
     "data": {
      "text/html": [
       "<div>\n",
       "<style scoped>\n",
       "    .dataframe tbody tr th:only-of-type {\n",
       "        vertical-align: middle;\n",
       "    }\n",
       "\n",
       "    .dataframe tbody tr th {\n",
       "        vertical-align: top;\n",
       "    }\n",
       "\n",
       "    .dataframe thead th {\n",
       "        text-align: right;\n",
       "    }\n",
       "</style>\n",
       "<table border=\"1\" class=\"dataframe\">\n",
       "  <thead>\n",
       "    <tr style=\"text-align: right;\">\n",
       "      <th></th>\n",
       "      <th>Primary Key</th>\n",
       "      <th>Incident Number</th>\n",
       "      <th>Report Type</th>\n",
       "      <th>Report Type Description</th>\n",
       "      <th>Incident Status Code</th>\n",
       "      <th>Incident Status Description</th>\n",
       "      <th>Investigation Status</th>\n",
       "      <th>Incident Occurred</th>\n",
       "      <th>Incident Reported</th>\n",
       "      <th>Incident Location</th>\n",
       "      <th>...</th>\n",
       "      <th>Victim Description</th>\n",
       "      <th>Victim Gender</th>\n",
       "      <th>Victim Race</th>\n",
       "      <th>Victim Ethnicity</th>\n",
       "      <th>Victim County Resident</th>\n",
       "      <th>Mapped Location</th>\n",
       "      <th>Davidson County Border (GIS)</th>\n",
       "      <th>Service Districts (GIS)</th>\n",
       "      <th>Council District Outlines (GIS)</th>\n",
       "      <th>Zip Codes (GIS)</th>\n",
       "    </tr>\n",
       "  </thead>\n",
       "  <tbody>\n",
       "    <tr>\n",
       "      <th>0</th>\n",
       "      <td>20240103838_23</td>\n",
       "      <td>20240103838</td>\n",
       "      <td>D</td>\n",
       "      <td>DISPATCHED</td>\n",
       "      <td>O</td>\n",
       "      <td>OPEN</td>\n",
       "      <td>Open</td>\n",
       "      <td>10/18/2023 08:00:00 PM</td>\n",
       "      <td>02/14/2024 07:27:00 PM</td>\n",
       "      <td>LAFAYETTE ST</td>\n",
       "      <td>...</td>\n",
       "      <td>SOCIETY</td>\n",
       "      <td>NaN</td>\n",
       "      <td>NaN</td>\n",
       "      <td>NaN</td>\n",
       "      <td>NaN</td>\n",
       "      <td>POINT (-86.76 36.15)</td>\n",
       "      <td>1.0</td>\n",
       "      <td>1.0</td>\n",
       "      <td>20.0</td>\n",
       "      <td>11.0</td>\n",
       "    </tr>\n",
       "    <tr>\n",
       "      <th>1</th>\n",
       "      <td>20240103838_12</td>\n",
       "      <td>20240103838</td>\n",
       "      <td>D</td>\n",
       "      <td>DISPATCHED</td>\n",
       "      <td>O</td>\n",
       "      <td>OPEN</td>\n",
       "      <td>Open</td>\n",
       "      <td>10/18/2023 08:00:00 PM</td>\n",
       "      <td>02/14/2024 07:27:00 PM</td>\n",
       "      <td>LAFAYETTE ST</td>\n",
       "      <td>...</td>\n",
       "      <td>INDIVIDUAL (18 AND OVER)</td>\n",
       "      <td>M</td>\n",
       "      <td>B</td>\n",
       "      <td>Non-Hispanic</td>\n",
       "      <td>RESIDENT</td>\n",
       "      <td>POINT (-86.76 36.15)</td>\n",
       "      <td>1.0</td>\n",
       "      <td>1.0</td>\n",
       "      <td>20.0</td>\n",
       "      <td>11.0</td>\n",
       "    </tr>\n",
       "    <tr>\n",
       "      <th>2</th>\n",
       "      <td>20240103838_11</td>\n",
       "      <td>20240103838</td>\n",
       "      <td>D</td>\n",
       "      <td>DISPATCHED</td>\n",
       "      <td>O</td>\n",
       "      <td>OPEN</td>\n",
       "      <td>Open</td>\n",
       "      <td>10/18/2023 08:00:00 PM</td>\n",
       "      <td>02/14/2024 07:27:00 PM</td>\n",
       "      <td>LAFAYETTE ST</td>\n",
       "      <td>...</td>\n",
       "      <td>INDIVIDUAL (18 AND OVER)</td>\n",
       "      <td>F</td>\n",
       "      <td>B</td>\n",
       "      <td>Non-Hispanic</td>\n",
       "      <td>NON RESIDENT</td>\n",
       "      <td>POINT (-86.76 36.15)</td>\n",
       "      <td>1.0</td>\n",
       "      <td>1.0</td>\n",
       "      <td>20.0</td>\n",
       "      <td>11.0</td>\n",
       "    </tr>\n",
       "    <tr>\n",
       "      <th>3</th>\n",
       "      <td>20240103523_11</td>\n",
       "      <td>20240103523</td>\n",
       "      <td>T</td>\n",
       "      <td>NaN</td>\n",
       "      <td>O</td>\n",
       "      <td>OPEN</td>\n",
       "      <td>Open</td>\n",
       "      <td>06/01/2023 12:00:00 PM</td>\n",
       "      <td>02/14/2024 01:36:00 PM</td>\n",
       "      <td>GLENPARK DR</td>\n",
       "      <td>...</td>\n",
       "      <td>INDIVIDUAL (18 AND OVER)</td>\n",
       "      <td>F</td>\n",
       "      <td>B</td>\n",
       "      <td>Non-Hispanic</td>\n",
       "      <td>RESIDENT</td>\n",
       "      <td>POINT (-86.71 36.11)</td>\n",
       "      <td>1.0</td>\n",
       "      <td>1.0</td>\n",
       "      <td>6.0</td>\n",
       "      <td>22.0</td>\n",
       "    </tr>\n",
       "    <tr>\n",
       "      <th>4</th>\n",
       "      <td>20240102993_11</td>\n",
       "      <td>20240102993</td>\n",
       "      <td>D</td>\n",
       "      <td>DISPATCHED</td>\n",
       "      <td>O</td>\n",
       "      <td>OPEN</td>\n",
       "      <td>Open</td>\n",
       "      <td>04/06/2023 06:23:00 PM</td>\n",
       "      <td>02/14/2024 09:18:00 AM</td>\n",
       "      <td>CHARLES E DAVIS BLVD</td>\n",
       "      <td>...</td>\n",
       "      <td>INDIVIDUAL (18 AND OVER)</td>\n",
       "      <td>F</td>\n",
       "      <td>B</td>\n",
       "      <td>Non-Hispanic</td>\n",
       "      <td>RESIDENT</td>\n",
       "      <td>POINT (-86.76 36.15)</td>\n",
       "      <td>1.0</td>\n",
       "      <td>1.0</td>\n",
       "      <td>20.0</td>\n",
       "      <td>11.0</td>\n",
       "    </tr>\n",
       "  </tbody>\n",
       "</table>\n",
       "<p>5 rows × 35 columns</p>\n",
       "</div>"
      ],
      "text/plain": [
       "      Primary Key  Incident Number Report Type Report Type Description  \\\n",
       "0  20240103838_23      20240103838           D              DISPATCHED   \n",
       "1  20240103838_12      20240103838           D              DISPATCHED   \n",
       "2  20240103838_11      20240103838           D              DISPATCHED   \n",
       "3  20240103523_11      20240103523           T                     NaN   \n",
       "4  20240102993_11      20240102993           D              DISPATCHED   \n",
       "\n",
       "  Incident Status Code Incident Status Description Investigation Status  \\\n",
       "0                    O                        OPEN                 Open   \n",
       "1                    O                        OPEN                 Open   \n",
       "2                    O                        OPEN                 Open   \n",
       "3                    O                        OPEN                 Open   \n",
       "4                    O                        OPEN                 Open   \n",
       "\n",
       "        Incident Occurred       Incident Reported     Incident Location  ...  \\\n",
       "0  10/18/2023 08:00:00 PM  02/14/2024 07:27:00 PM          LAFAYETTE ST  ...   \n",
       "1  10/18/2023 08:00:00 PM  02/14/2024 07:27:00 PM          LAFAYETTE ST  ...   \n",
       "2  10/18/2023 08:00:00 PM  02/14/2024 07:27:00 PM          LAFAYETTE ST  ...   \n",
       "3  06/01/2023 12:00:00 PM  02/14/2024 01:36:00 PM           GLENPARK DR  ...   \n",
       "4  04/06/2023 06:23:00 PM  02/14/2024 09:18:00 AM  CHARLES E DAVIS BLVD  ...   \n",
       "\n",
       "         Victim Description  Victim Gender  Victim Race  Victim Ethnicity  \\\n",
       "0                   SOCIETY            NaN          NaN               NaN   \n",
       "1  INDIVIDUAL (18 AND OVER)              M            B      Non-Hispanic   \n",
       "2  INDIVIDUAL (18 AND OVER)              F            B      Non-Hispanic   \n",
       "3  INDIVIDUAL (18 AND OVER)              F            B      Non-Hispanic   \n",
       "4  INDIVIDUAL (18 AND OVER)              F            B      Non-Hispanic   \n",
       "\n",
       "   Victim County Resident       Mapped Location Davidson County Border (GIS)  \\\n",
       "0                     NaN  POINT (-86.76 36.15)                          1.0   \n",
       "1                RESIDENT  POINT (-86.76 36.15)                          1.0   \n",
       "2            NON RESIDENT  POINT (-86.76 36.15)                          1.0   \n",
       "3                RESIDENT  POINT (-86.71 36.11)                          1.0   \n",
       "4                RESIDENT  POINT (-86.76 36.15)                          1.0   \n",
       "\n",
       "   Service Districts (GIS) Council District Outlines (GIS) Zip Codes (GIS)  \n",
       "0                      1.0                            20.0            11.0  \n",
       "1                      1.0                            20.0            11.0  \n",
       "2                      1.0                            20.0            11.0  \n",
       "3                      1.0                             6.0            22.0  \n",
       "4                      1.0                            20.0            11.0  \n",
       "\n",
       "[5 rows x 35 columns]"
      ]
     },
     "execution_count": 8,
     "metadata": {},
     "output_type": "execute_result"
    }
   ],
   "source": [
    "nashvillecrime_df.head()"
   ]
  },
  {
   "cell_type": "code",
   "execution_count": 9,
   "id": "41161625",
   "metadata": {},
   "outputs": [
    {
     "name": "stdout",
     "output_type": "stream",
     "text": [
      "<class 'pandas.core.frame.DataFrame'>\n",
      "RangeIndex: 122764 entries, 0 to 122763\n",
      "Data columns (total 35 columns):\n",
      " #   Column                           Non-Null Count   Dtype  \n",
      "---  ------                           --------------   -----  \n",
      " 0   Primary Key                      122764 non-null  object \n",
      " 1   Incident Number                  122764 non-null  int64  \n",
      " 2   Report Type                      122734 non-null  object \n",
      " 3   Report Type Description          112165 non-null  object \n",
      " 4   Incident Status Code             122764 non-null  object \n",
      " 5   Incident Status Description      122753 non-null  object \n",
      " 6   Investigation Status             122764 non-null  object \n",
      " 7   Incident Occurred                122764 non-null  object \n",
      " 8   Incident Reported                122764 non-null  object \n",
      " 9   Incident Location                120353 non-null  object \n",
      " 10  Latitude                         118035 non-null  float64\n",
      " 11  Longitude                        118035 non-null  float64\n",
      " 12  ZIP Code                         61926 non-null   float64\n",
      " 13  RPA                              85 non-null      float64\n",
      " 14  Zone                             85 non-null      float64\n",
      " 15  Location Code                    122758 non-null  float64\n",
      " 16  Location Description             122758 non-null  object \n",
      " 17  Offense Number                   122747 non-null  float64\n",
      " 18  Offense NIBRS                    122754 non-null  object \n",
      " 19  Offense Description              122764 non-null  object \n",
      " 20  Weapon Primary                   115032 non-null  object \n",
      " 21  Weapon Description               114854 non-null  object \n",
      " 22  Victim Number                    122764 non-null  int64  \n",
      " 23  Domestic Related                 122764 non-null  bool   \n",
      " 24  Victim Type                      122764 non-null  object \n",
      " 25  Victim Description               122761 non-null  object \n",
      " 26  Victim Gender                    95607 non-null   object \n",
      " 27  Victim Race                      95606 non-null   object \n",
      " 28  Victim Ethnicity                 95576 non-null   object \n",
      " 29  Victim County Resident           95658 non-null   object \n",
      " 30  Mapped Location                  118035 non-null  object \n",
      " 31  Davidson County Border (GIS)     117919 non-null  float64\n",
      " 32  Service Districts (GIS)          117919 non-null  float64\n",
      " 33  Council District Outlines (GIS)  117919 non-null  float64\n",
      " 34  Zip Codes (GIS)                  117922 non-null  float64\n",
      "dtypes: bool(1), float64(11), int64(2), object(21)\n",
      "memory usage: 32.0+ MB\n"
     ]
    }
   ],
   "source": [
    "nashvillecrime_df.info()"
   ]
  },
  {
   "cell_type": "code",
   "execution_count": 28,
   "id": "d160468e",
   "metadata": {},
   "outputs": [
    {
     "data": {
      "text/plain": [
       "0         10/18/2023 08:00:00 PM\n",
       "1         10/18/2023 08:00:00 PM\n",
       "2         10/18/2023 08:00:00 PM\n",
       "3         06/01/2023 12:00:00 PM\n",
       "4         04/06/2023 06:23:00 PM\n",
       "                   ...          \n",
       "122759    08/13/2023 11:50:00 PM\n",
       "122760    05/15/2023 08:00:00 AM\n",
       "122761    03/01/2023 08:00:00 PM\n",
       "122762    03/17/2023 08:21:00 PM\n",
       "122763    02/27/2023 12:15:00 PM\n",
       "Name: Incident Occurred, Length: 122764, dtype: object"
      ]
     },
     "execution_count": 28,
     "metadata": {},
     "output_type": "execute_result"
    }
   ],
   "source": [
    "nashvillecrime_df['Incident Occurred']"
   ]
  },
  {
   "cell_type": "code",
   "execution_count": 32,
   "id": "05f78ef2",
   "metadata": {},
   "outputs": [
    {
     "name": "stderr",
     "output_type": "stream",
     "text": [
      "C:\\Users\\antoi\\AppData\\Local\\Temp\\ipykernel_17352\\1469182027.py:1: UserWarning: Could not infer format, so each element will be parsed individually, falling back to `dateutil`. To ensure parsing is consistent and as-expected, please specify a format.\n",
      "  nashvillecrime_df['Date'] = pd.to_datetime(nashvillecrime_df['Incident Occurred']).dt.date\n",
      "C:\\Users\\antoi\\AppData\\Local\\Temp\\ipykernel_17352\\1469182027.py:2: UserWarning: Could not infer format, so each element will be parsed individually, falling back to `dateutil`. To ensure parsing is consistent and as-expected, please specify a format.\n",
      "  nashvillecrime_df['Time'] = pd.to_datetime(nashvillecrime_df['Incident Occurred']).dt.time\n"
     ]
    },
    {
     "name": "stdout",
     "output_type": "stream",
     "text": [
      "           Primary Key  Incident Number Report Type Report Type Description  \\\n",
      "0       20240103838_23      20240103838           D              DISPATCHED   \n",
      "1       20240103838_12      20240103838           D              DISPATCHED   \n",
      "2       20240103838_11      20240103838           D              DISPATCHED   \n",
      "3       20240103523_11      20240103523           T                     NaN   \n",
      "4       20240102993_11      20240102993           D              DISPATCHED   \n",
      "...                ...              ...         ...                     ...   \n",
      "122759  20200478485_11      20200478485           D              DISPATCHED   \n",
      "122760  20200306667_11      20200306667           D              DISPATCHED   \n",
      "122761  20200130530_11      20200130530           T                     NaN   \n",
      "122762  20200020059_11      20200020059           O                     NaN   \n",
      "122763  20130140658_11      20130140658           T                     NaN   \n",
      "\n",
      "       Incident Status Code Incident Status Description Investigation Status  \\\n",
      "0                         O                        OPEN                 Open   \n",
      "1                         O                        OPEN                 Open   \n",
      "2                         O                        OPEN                 Open   \n",
      "3                         O                        OPEN                 Open   \n",
      "4                         O                        OPEN                 Open   \n",
      "...                     ...                         ...                  ...   \n",
      "122759                    O                        OPEN                 Open   \n",
      "122760                    U                   UNFOUNDED               Closed   \n",
      "122761                    O                        OPEN                 Open   \n",
      "122762                    U                   UNFOUNDED               Closed   \n",
      "122763                    O                        OPEN                 Open   \n",
      "\n",
      "             Incident Occurred     Incident Location  Latitude  ...  \\\n",
      "0       10/18/2023 08:00:00 PM          LAFAYETTE ST    36.150  ...   \n",
      "1       10/18/2023 08:00:00 PM          LAFAYETTE ST    36.150  ...   \n",
      "2       10/18/2023 08:00:00 PM          LAFAYETTE ST    36.150  ...   \n",
      "3       06/01/2023 12:00:00 PM           GLENPARK DR    36.110  ...   \n",
      "4       04/06/2023 06:23:00 PM  CHARLES E DAVIS BLVD    36.150  ...   \n",
      "...                        ...                   ...       ...  ...   \n",
      "122759  08/13/2023 11:50:00 PM      OLD HICKORY BLVD    36.100  ...   \n",
      "122760  05/15/2023 08:00:00 AM             5832 5832    36.022  ...   \n",
      "122761  03/01/2023 08:00:00 PM       SAWYER BROWN RD    36.100  ...   \n",
      "122762  03/17/2023 08:21:00 PM               440 440    36.169  ...   \n",
      "122763  02/27/2023 12:15:00 PM         CHARLOTTE PKE    36.140  ...   \n",
      "\n",
      "        Victim Race  Victim Ethnicity  Victim County Resident  \\\n",
      "0               NaN               NaN                     NaN   \n",
      "1                 B      Non-Hispanic                RESIDENT   \n",
      "2                 B      Non-Hispanic            NON RESIDENT   \n",
      "3                 B      Non-Hispanic                RESIDENT   \n",
      "4                 B      Non-Hispanic                RESIDENT   \n",
      "...             ...               ...                     ...   \n",
      "122759            W      Non-Hispanic                RESIDENT   \n",
      "122760          NaN               NaN                     NaN   \n",
      "122761          NaN               NaN                     NaN   \n",
      "122762            B      Non-Hispanic                RESIDENT   \n",
      "122763          NaN               NaN                     NaN   \n",
      "\n",
      "               Mapped Location  Davidson County Border (GIS)  \\\n",
      "0         POINT (-86.76 36.15)                           1.0   \n",
      "1         POINT (-86.76 36.15)                           1.0   \n",
      "2         POINT (-86.76 36.15)                           1.0   \n",
      "3         POINT (-86.71 36.11)                           1.0   \n",
      "4         POINT (-86.76 36.15)                           1.0   \n",
      "...                        ...                           ...   \n",
      "122759     POINT (-86.92 36.1)                           1.0   \n",
      "122760  POINT (-86.662 36.022)                           1.0   \n",
      "122761     POINT (-86.93 36.1)                           1.0   \n",
      "122762   POINT (-86.78 36.169)                           1.0   \n",
      "122763    POINT (-86.89 36.14)                           1.0   \n",
      "\n",
      "       Service Districts (GIS)  Council District Outlines (GIS)  \\\n",
      "0                          1.0                             20.0   \n",
      "1                          1.0                             20.0   \n",
      "2                          1.0                             20.0   \n",
      "3                          1.0                              6.0   \n",
      "4                          1.0                             20.0   \n",
      "...                        ...                              ...   \n",
      "122759                     1.0                             31.0   \n",
      "122760                     2.0                             30.0   \n",
      "122761                     2.0                             31.0   \n",
      "122762                     1.0                             20.0   \n",
      "122763                     1.0                             24.0   \n",
      "\n",
      "       Zip Codes (GIS)        Date      Time  \n",
      "0                 11.0  2023-10-18  20:00:00  \n",
      "1                 11.0  2023-10-18  20:00:00  \n",
      "2                 11.0  2023-10-18  20:00:00  \n",
      "3                 22.0  2023-06-01  12:00:00  \n",
      "4                 11.0  2023-04-06  18:23:00  \n",
      "...                ...         ...       ...  \n",
      "122759            46.0  2023-08-13  23:50:00  \n",
      "122760            15.0  2023-05-15  08:00:00  \n",
      "122761            32.0  2023-03-01  20:00:00  \n",
      "122762            29.0  2023-03-17  20:21:00  \n",
      "122763            46.0  2023-02-27  12:15:00  \n",
      "\n",
      "[122764 rows x 36 columns]\n"
     ]
    }
   ],
   "source": [
    "nashvillecrime_df['Date'] = pd.to_datetime(nashvillecrime_df['Incident Occurred']).dt.date\n",
    "nashvillecrime_df['Time'] = pd.to_datetime(nashvillecrime_df['Incident Occurred']).dt.time\n",
    "\n",
    "print(nashvillecrime_df)"
   ]
  },
  {
   "cell_type": "markdown",
   "id": "01375f05",
   "metadata": {},
   "source": [
    "WEATHER DF"
   ]
  },
  {
   "cell_type": "code",
   "execution_count": 93,
   "id": "8b331507",
   "metadata": {},
   "outputs": [],
   "source": [
    "weather2023_df=pd.read_excel(r\"C:\\Users\\antoi\\nss-data-analytics\\Projects\\Nashville_Crime_and_Weather\\data\\Nashville_Weather_2023.xlsx\", skiprows=None)"
   ]
  },
  {
   "cell_type": "code",
   "execution_count": 94,
   "id": "c3f17091",
   "metadata": {},
   "outputs": [
    {
     "data": {
      "text/html": [
       "<div>\n",
       "<style scoped>\n",
       "    .dataframe tbody tr th:only-of-type {\n",
       "        vertical-align: middle;\n",
       "    }\n",
       "\n",
       "    .dataframe tbody tr th {\n",
       "        vertical-align: top;\n",
       "    }\n",
       "\n",
       "    .dataframe thead th {\n",
       "        text-align: right;\n",
       "    }\n",
       "</style>\n",
       "<table border=\"1\" class=\"dataframe\">\n",
       "  <thead>\n",
       "    <tr style=\"text-align: right;\">\n",
       "      <th></th>\n",
       "      <th>Day</th>\n",
       "      <th>High</th>\n",
       "      <th>Low</th>\n",
       "      <th>Precip.</th>\n",
       "    </tr>\n",
       "  </thead>\n",
       "  <tbody>\n",
       "    <tr>\n",
       "      <th>0</th>\n",
       "      <td>2023-01-01</td>\n",
       "      <td>70</td>\n",
       "      <td>45</td>\n",
       "      <td>0.00</td>\n",
       "    </tr>\n",
       "    <tr>\n",
       "      <th>1</th>\n",
       "      <td>2023-01-02</td>\n",
       "      <td>75</td>\n",
       "      <td>53</td>\n",
       "      <td>0.04</td>\n",
       "    </tr>\n",
       "    <tr>\n",
       "      <th>2</th>\n",
       "      <td>2023-01-03</td>\n",
       "      <td>71</td>\n",
       "      <td>58</td>\n",
       "      <td>1.53</td>\n",
       "    </tr>\n",
       "    <tr>\n",
       "      <th>3</th>\n",
       "      <td>2023-01-04</td>\n",
       "      <td>65</td>\n",
       "      <td>45</td>\n",
       "      <td>0.07</td>\n",
       "    </tr>\n",
       "    <tr>\n",
       "      <th>4</th>\n",
       "      <td>2023-01-05</td>\n",
       "      <td>56</td>\n",
       "      <td>36</td>\n",
       "      <td>0.00</td>\n",
       "    </tr>\n",
       "    <tr>\n",
       "      <th>...</th>\n",
       "      <td>...</td>\n",
       "      <td>...</td>\n",
       "      <td>...</td>\n",
       "      <td>...</td>\n",
       "    </tr>\n",
       "    <tr>\n",
       "      <th>359</th>\n",
       "      <td>2023-12-27</td>\n",
       "      <td>53</td>\n",
       "      <td>32</td>\n",
       "      <td>0.00</td>\n",
       "    </tr>\n",
       "    <tr>\n",
       "      <th>360</th>\n",
       "      <td>2023-12-28</td>\n",
       "      <td>44</td>\n",
       "      <td>31</td>\n",
       "      <td>0.00</td>\n",
       "    </tr>\n",
       "    <tr>\n",
       "      <th>361</th>\n",
       "      <td>2023-12-29</td>\n",
       "      <td>41</td>\n",
       "      <td>37</td>\n",
       "      <td>0.00</td>\n",
       "    </tr>\n",
       "    <tr>\n",
       "      <th>362</th>\n",
       "      <td>2023-12-30</td>\n",
       "      <td>41</td>\n",
       "      <td>31</td>\n",
       "      <td>0.00</td>\n",
       "    </tr>\n",
       "    <tr>\n",
       "      <th>363</th>\n",
       "      <td>2023-12-31</td>\n",
       "      <td>59</td>\n",
       "      <td>32</td>\n",
       "      <td>0.00</td>\n",
       "    </tr>\n",
       "  </tbody>\n",
       "</table>\n",
       "<p>364 rows × 4 columns</p>\n",
       "</div>"
      ],
      "text/plain": [
       "           Day  High   Low   Precip.\n",
       "0   2023-01-01     70    45     0.00\n",
       "1   2023-01-02     75    53     0.04\n",
       "2   2023-01-03     71    58     1.53\n",
       "3   2023-01-04     65    45     0.07\n",
       "4   2023-01-05     56    36     0.00\n",
       "..         ...    ...   ...      ...\n",
       "359 2023-12-27     53    32     0.00\n",
       "360 2023-12-28     44    31     0.00\n",
       "361 2023-12-29     41    37     0.00\n",
       "362 2023-12-30     41    31     0.00\n",
       "363 2023-12-31     59    32     0.00\n",
       "\n",
       "[364 rows x 4 columns]"
      ]
     },
     "execution_count": 94,
     "metadata": {},
     "output_type": "execute_result"
    }
   ],
   "source": [
    "weather2023_df"
   ]
  },
  {
   "cell_type": "code",
   "execution_count": 107,
   "id": "2fb3268b",
   "metadata": {},
   "outputs": [],
   "source": [
    "weather2023_df.rename(columns={\"Day\": \"Date\"}, inplace=True)"
   ]
  },
  {
   "cell_type": "code",
   "execution_count": 108,
   "id": "c806ce8e",
   "metadata": {},
   "outputs": [
    {
     "name": "stdout",
     "output_type": "stream",
     "text": [
      "          Date  High   Low   Precip.\n",
      "0   2023-01-01     70    45     0.00\n",
      "1   2023-01-02     75    53     0.04\n",
      "2   2023-01-03     71    58     1.53\n",
      "3   2023-01-04     65    45     0.07\n",
      "4   2023-01-05     56    36     0.00\n",
      "..         ...    ...   ...      ...\n",
      "359 2023-12-27     53    32     0.00\n",
      "360 2023-12-28     44    31     0.00\n",
      "361 2023-12-29     41    37     0.00\n",
      "362 2023-12-30     41    31     0.00\n",
      "363 2023-12-31     59    32     0.00\n",
      "\n",
      "[364 rows x 4 columns]\n"
     ]
    }
   ],
   "source": [
    "print(weather2023_df)"
   ]
  },
  {
   "cell_type": "markdown",
   "id": "6a9d6651",
   "metadata": {},
   "source": [
    "MERGE"
   ]
  },
  {
   "cell_type": "code",
   "execution_count": 109,
   "id": "6c002b9f",
   "metadata": {},
   "outputs": [
    {
     "data": {
      "text/plain": [
       "0         2023-10-18\n",
       "1         2023-10-18\n",
       "2         2023-10-18\n",
       "3         2023-06-01\n",
       "4         2023-04-06\n",
       "             ...    \n",
       "122759    2023-08-13\n",
       "122760    2023-05-15\n",
       "122761    2023-03-01\n",
       "122762    2023-03-17\n",
       "122763    2023-02-27\n",
       "Name: Date, Length: 122764, dtype: object"
      ]
     },
     "execution_count": 109,
     "metadata": {},
     "output_type": "execute_result"
    }
   ],
   "source": [
    "nashvillecrime_df['Date']"
   ]
  },
  {
   "cell_type": "code",
   "execution_count": 110,
   "id": "9531b8b7",
   "metadata": {},
   "outputs": [
    {
     "data": {
      "text/plain": [
       "0     2023-01-01\n",
       "1     2023-01-02\n",
       "2     2023-01-03\n",
       "3     2023-01-04\n",
       "4     2023-01-05\n",
       "         ...    \n",
       "359   2023-12-27\n",
       "360   2023-12-28\n",
       "361   2023-12-29\n",
       "362   2023-12-30\n",
       "363   2023-12-31\n",
       "Name: Date, Length: 364, dtype: datetime64[ns]"
      ]
     },
     "execution_count": 110,
     "metadata": {},
     "output_type": "execute_result"
    }
   ],
   "source": [
    "weather2023_df['Date']"
   ]
  },
  {
   "cell_type": "code",
   "execution_count": 114,
   "id": "2a670012",
   "metadata": {},
   "outputs": [
    {
     "data": {
      "text/plain": [
       "<bound method Series.info of 0         2023-10-18\n",
       "1         2023-10-18\n",
       "2         2023-10-18\n",
       "3         2023-06-01\n",
       "4         2023-04-06\n",
       "             ...    \n",
       "122759    2023-08-13\n",
       "122760    2023-05-15\n",
       "122761    2023-03-01\n",
       "122762    2023-03-17\n",
       "122763    2023-02-27\n",
       "Name: Date, Length: 122764, dtype: object>"
      ]
     },
     "execution_count": 114,
     "metadata": {},
     "output_type": "execute_result"
    }
   ],
   "source": [
    "nashvillecrime_df['Date'].info"
   ]
  },
  {
   "cell_type": "code",
   "execution_count": 116,
   "id": "f7da6bf0",
   "metadata": {},
   "outputs": [
    {
     "data": {
      "text/plain": [
       "<bound method Series.info of 0     2023-01-01\n",
       "1     2023-01-02\n",
       "2     2023-01-03\n",
       "3     2023-01-04\n",
       "4     2023-01-05\n",
       "         ...    \n",
       "359   2023-12-27\n",
       "360   2023-12-28\n",
       "361   2023-12-29\n",
       "362   2023-12-30\n",
       "363   2023-12-31\n",
       "Name: Date, Length: 364, dtype: datetime64[ns]>"
      ]
     },
     "execution_count": 116,
     "metadata": {},
     "output_type": "execute_result"
    }
   ],
   "source": [
    "weather2023_df['Date'].info"
   ]
  },
  {
   "cell_type": "code",
   "execution_count": 111,
   "id": "5b8bf0a0",
   "metadata": {},
   "outputs": [
    {
     "ename": "ValueError",
     "evalue": "You are trying to merge on object and datetime64[ns] columns. If you wish to proceed you should use pd.concat",
     "output_type": "error",
     "traceback": [
      "\u001b[1;31m---------------------------------------------------------------------------\u001b[0m",
      "\u001b[1;31mValueError\u001b[0m                                Traceback (most recent call last)",
      "Cell \u001b[1;32mIn[111], line 1\u001b[0m\n\u001b[1;32m----> 1\u001b[0m nashvillecrime_weather\u001b[38;5;241m=\u001b[39mpd\u001b[38;5;241m.\u001b[39mmerge( nashvillecrime_df, weather2023_df, on\u001b[38;5;241m=\u001b[39m\u001b[38;5;124m\"\u001b[39m\u001b[38;5;124mDate\u001b[39m\u001b[38;5;124m\"\u001b[39m, how\u001b[38;5;241m=\u001b[39m\u001b[38;5;124m\"\u001b[39m\u001b[38;5;124minner\u001b[39m\u001b[38;5;124m\"\u001b[39m)\n\u001b[0;32m      2\u001b[0m \u001b[38;5;28mprint\u001b[39m(nashvillecrime_weather)\n",
      "File \u001b[1;32m~\\anaconda3\\Lib\\site-packages\\pandas\\core\\reshape\\merge.py:148\u001b[0m, in \u001b[0;36mmerge\u001b[1;34m(left, right, how, on, left_on, right_on, left_index, right_index, sort, suffixes, copy, indicator, validate)\u001b[0m\n\u001b[0;32m    131\u001b[0m \u001b[38;5;129m@Substitution\u001b[39m(\u001b[38;5;124m\"\u001b[39m\u001b[38;5;130;01m\\n\u001b[39;00m\u001b[38;5;124mleft : DataFrame or named Series\u001b[39m\u001b[38;5;124m\"\u001b[39m)\n\u001b[0;32m    132\u001b[0m \u001b[38;5;129m@Appender\u001b[39m(_merge_doc, indents\u001b[38;5;241m=\u001b[39m\u001b[38;5;241m0\u001b[39m)\n\u001b[0;32m    133\u001b[0m \u001b[38;5;28;01mdef\u001b[39;00m \u001b[38;5;21mmerge\u001b[39m(\n\u001b[1;32m   (...)\u001b[0m\n\u001b[0;32m    146\u001b[0m     validate: \u001b[38;5;28mstr\u001b[39m \u001b[38;5;241m|\u001b[39m \u001b[38;5;28;01mNone\u001b[39;00m \u001b[38;5;241m=\u001b[39m \u001b[38;5;28;01mNone\u001b[39;00m,\n\u001b[0;32m    147\u001b[0m ) \u001b[38;5;241m-\u001b[39m\u001b[38;5;241m>\u001b[39m DataFrame:\n\u001b[1;32m--> 148\u001b[0m     op \u001b[38;5;241m=\u001b[39m _MergeOperation(\n\u001b[0;32m    149\u001b[0m         left,\n\u001b[0;32m    150\u001b[0m         right,\n\u001b[0;32m    151\u001b[0m         how\u001b[38;5;241m=\u001b[39mhow,\n\u001b[0;32m    152\u001b[0m         on\u001b[38;5;241m=\u001b[39mon,\n\u001b[0;32m    153\u001b[0m         left_on\u001b[38;5;241m=\u001b[39mleft_on,\n\u001b[0;32m    154\u001b[0m         right_on\u001b[38;5;241m=\u001b[39mright_on,\n\u001b[0;32m    155\u001b[0m         left_index\u001b[38;5;241m=\u001b[39mleft_index,\n\u001b[0;32m    156\u001b[0m         right_index\u001b[38;5;241m=\u001b[39mright_index,\n\u001b[0;32m    157\u001b[0m         sort\u001b[38;5;241m=\u001b[39msort,\n\u001b[0;32m    158\u001b[0m         suffixes\u001b[38;5;241m=\u001b[39msuffixes,\n\u001b[0;32m    159\u001b[0m         indicator\u001b[38;5;241m=\u001b[39mindicator,\n\u001b[0;32m    160\u001b[0m         validate\u001b[38;5;241m=\u001b[39mvalidate,\n\u001b[0;32m    161\u001b[0m     )\n\u001b[0;32m    162\u001b[0m     \u001b[38;5;28;01mreturn\u001b[39;00m op\u001b[38;5;241m.\u001b[39mget_result(copy\u001b[38;5;241m=\u001b[39mcopy)\n",
      "File \u001b[1;32m~\\anaconda3\\Lib\\site-packages\\pandas\\core\\reshape\\merge.py:741\u001b[0m, in \u001b[0;36m_MergeOperation.__init__\u001b[1;34m(self, left, right, how, on, left_on, right_on, axis, left_index, right_index, sort, suffixes, indicator, validate)\u001b[0m\n\u001b[0;32m    733\u001b[0m (\n\u001b[0;32m    734\u001b[0m     \u001b[38;5;28mself\u001b[39m\u001b[38;5;241m.\u001b[39mleft_join_keys,\n\u001b[0;32m    735\u001b[0m     \u001b[38;5;28mself\u001b[39m\u001b[38;5;241m.\u001b[39mright_join_keys,\n\u001b[0;32m    736\u001b[0m     \u001b[38;5;28mself\u001b[39m\u001b[38;5;241m.\u001b[39mjoin_names,\n\u001b[0;32m    737\u001b[0m ) \u001b[38;5;241m=\u001b[39m \u001b[38;5;28mself\u001b[39m\u001b[38;5;241m.\u001b[39m_get_merge_keys()\n\u001b[0;32m    739\u001b[0m \u001b[38;5;66;03m# validate the merge keys dtypes. We may need to coerce\u001b[39;00m\n\u001b[0;32m    740\u001b[0m \u001b[38;5;66;03m# to avoid incompatible dtypes\u001b[39;00m\n\u001b[1;32m--> 741\u001b[0m \u001b[38;5;28mself\u001b[39m\u001b[38;5;241m.\u001b[39m_maybe_coerce_merge_keys()\n\u001b[0;32m    743\u001b[0m \u001b[38;5;66;03m# If argument passed to validate,\u001b[39;00m\n\u001b[0;32m    744\u001b[0m \u001b[38;5;66;03m# check if columns specified as unique\u001b[39;00m\n\u001b[0;32m    745\u001b[0m \u001b[38;5;66;03m# are in fact unique.\u001b[39;00m\n\u001b[0;32m    746\u001b[0m \u001b[38;5;28;01mif\u001b[39;00m validate \u001b[38;5;129;01mis\u001b[39;00m \u001b[38;5;129;01mnot\u001b[39;00m \u001b[38;5;28;01mNone\u001b[39;00m:\n",
      "File \u001b[1;32m~\\anaconda3\\Lib\\site-packages\\pandas\\core\\reshape\\merge.py:1407\u001b[0m, in \u001b[0;36m_MergeOperation._maybe_coerce_merge_keys\u001b[1;34m(self)\u001b[0m\n\u001b[0;32m   1405\u001b[0m     \u001b[38;5;28;01mraise\u001b[39;00m \u001b[38;5;167;01mValueError\u001b[39;00m(msg)\n\u001b[0;32m   1406\u001b[0m \u001b[38;5;28;01melif\u001b[39;00m \u001b[38;5;129;01mnot\u001b[39;00m needs_i8_conversion(lk\u001b[38;5;241m.\u001b[39mdtype) \u001b[38;5;129;01mand\u001b[39;00m needs_i8_conversion(rk\u001b[38;5;241m.\u001b[39mdtype):\n\u001b[1;32m-> 1407\u001b[0m     \u001b[38;5;28;01mraise\u001b[39;00m \u001b[38;5;167;01mValueError\u001b[39;00m(msg)\n\u001b[0;32m   1408\u001b[0m \u001b[38;5;28;01melif\u001b[39;00m \u001b[38;5;28misinstance\u001b[39m(lk\u001b[38;5;241m.\u001b[39mdtype, DatetimeTZDtype) \u001b[38;5;129;01mand\u001b[39;00m \u001b[38;5;129;01mnot\u001b[39;00m \u001b[38;5;28misinstance\u001b[39m(\n\u001b[0;32m   1409\u001b[0m     rk\u001b[38;5;241m.\u001b[39mdtype, DatetimeTZDtype\n\u001b[0;32m   1410\u001b[0m ):\n\u001b[0;32m   1411\u001b[0m     \u001b[38;5;28;01mraise\u001b[39;00m \u001b[38;5;167;01mValueError\u001b[39;00m(msg)\n",
      "\u001b[1;31mValueError\u001b[0m: You are trying to merge on object and datetime64[ns] columns. If you wish to proceed you should use pd.concat"
     ]
    }
   ],
   "source": [
    "nashvillecrime_weather=pd.merge( nashvillecrime_df, weather2023_df, on=\"Date\", how=\"inner\")\n",
    "print(nashvillecrime_weather)"
   ]
  },
  {
   "cell_type": "code",
   "execution_count": null,
   "id": "e4e91943",
   "metadata": {},
   "outputs": [],
   "source": []
  }
 ],
 "metadata": {
  "kernelspec": {
   "display_name": "Python 3 (ipykernel)",
   "language": "python",
   "name": "python3"
  },
  "language_info": {
   "codemirror_mode": {
    "name": "ipython",
    "version": 3
   },
   "file_extension": ".py",
   "mimetype": "text/x-python",
   "name": "python",
   "nbconvert_exporter": "python",
   "pygments_lexer": "ipython3",
   "version": "3.11.5"
  }
 },
 "nbformat": 4,
 "nbformat_minor": 5
}

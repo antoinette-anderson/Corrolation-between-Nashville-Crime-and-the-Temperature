{
 "cells": [
  {
   "cell_type": "code",
   "execution_count": 33,
   "id": "d246d383",
   "metadata": {},
   "outputs": [],
   "source": [
    "import pandas as pd\n",
    "import matplotlib as mb\n",
    "import seaborn as sns\n",
    "import numpy as np"
   ]
  },
  {
   "cell_type": "markdown",
   "id": "1a3d1919",
   "metadata": {},
   "source": [
    "I created this excel document from https://www.extremeweatherwatch.com/cities/nashville/year-2023 which received their data from NOAA."
   ]
  },
  {
   "cell_type": "code",
   "execution_count": 47,
   "id": "a76cdd07",
   "metadata": {},
   "outputs": [],
   "source": [
    "weather2023_df=pd.read_excel(r\"C:\\Users\\antoi\\nss-data-analytics\\Projects\\Nashville_Crime_and_Weather\\data\\Nashville_Weather_2023.xlsx\", skiprows=None)"
   ]
  },
  {
   "cell_type": "code",
   "execution_count": 48,
   "id": "fcefd593",
   "metadata": {},
   "outputs": [
    {
     "name": "stdout",
     "output_type": "stream",
     "text": [
      "           Day  High (°F)  Low (°F)  Precip.  Unnamed: 4  Unnamed: 5  \\\n",
      "0   2023-01-01         70        45     0.00         NaN         NaN   \n",
      "1   2023-01-02         75        53     0.04         NaN         NaN   \n",
      "2   2023-01-03         71        58     1.53         NaN         NaN   \n",
      "3   2023-01-04         65        45     0.07         NaN         NaN   \n",
      "4   2023-01-05         56        36     0.00         NaN         NaN   \n",
      "..         ...        ...       ...      ...         ...         ...   \n",
      "359 2023-12-27         53        32     0.00         NaN         NaN   \n",
      "360 2023-12-28         44        31     0.00         NaN         NaN   \n",
      "361 2023-12-29         41        37     0.00         NaN         NaN   \n",
      "362 2023-12-30         41        31     0.00         NaN         NaN   \n",
      "363 2023-12-31         59        32     0.00         NaN         NaN   \n",
      "\n",
      "     Unnamed: 6  \n",
      "0           NaN  \n",
      "1           NaN  \n",
      "2           NaN  \n",
      "3           NaN  \n",
      "4           NaN  \n",
      "..          ...  \n",
      "359         NaN  \n",
      "360         NaN  \n",
      "361         NaN  \n",
      "362         NaN  \n",
      "363         NaN  \n",
      "\n",
      "[364 rows x 7 columns]\n"
     ]
    }
   ],
   "source": [
    "print(weather2023_df)"
   ]
  },
  {
   "cell_type": "code",
   "execution_count": 49,
   "id": "980d18f1",
   "metadata": {},
   "outputs": [
    {
     "data": {
      "text/html": [
       "<div>\n",
       "<style scoped>\n",
       "    .dataframe tbody tr th:only-of-type {\n",
       "        vertical-align: middle;\n",
       "    }\n",
       "\n",
       "    .dataframe tbody tr th {\n",
       "        vertical-align: top;\n",
       "    }\n",
       "\n",
       "    .dataframe thead th {\n",
       "        text-align: right;\n",
       "    }\n",
       "</style>\n",
       "<table border=\"1\" class=\"dataframe\">\n",
       "  <thead>\n",
       "    <tr style=\"text-align: right;\">\n",
       "      <th></th>\n",
       "      <th>Day</th>\n",
       "      <th>High (°F)</th>\n",
       "      <th>Low (°F)</th>\n",
       "      <th>Precip.</th>\n",
       "      <th>Unnamed: 4</th>\n",
       "      <th>Unnamed: 5</th>\n",
       "      <th>Unnamed: 6</th>\n",
       "    </tr>\n",
       "  </thead>\n",
       "  <tbody>\n",
       "    <tr>\n",
       "      <th>0</th>\n",
       "      <td>2023-01-01</td>\n",
       "      <td>70</td>\n",
       "      <td>45</td>\n",
       "      <td>0.00</td>\n",
       "      <td>NaN</td>\n",
       "      <td>NaN</td>\n",
       "      <td>NaN</td>\n",
       "    </tr>\n",
       "    <tr>\n",
       "      <th>1</th>\n",
       "      <td>2023-01-02</td>\n",
       "      <td>75</td>\n",
       "      <td>53</td>\n",
       "      <td>0.04</td>\n",
       "      <td>NaN</td>\n",
       "      <td>NaN</td>\n",
       "      <td>NaN</td>\n",
       "    </tr>\n",
       "    <tr>\n",
       "      <th>2</th>\n",
       "      <td>2023-01-03</td>\n",
       "      <td>71</td>\n",
       "      <td>58</td>\n",
       "      <td>1.53</td>\n",
       "      <td>NaN</td>\n",
       "      <td>NaN</td>\n",
       "      <td>NaN</td>\n",
       "    </tr>\n",
       "    <tr>\n",
       "      <th>3</th>\n",
       "      <td>2023-01-04</td>\n",
       "      <td>65</td>\n",
       "      <td>45</td>\n",
       "      <td>0.07</td>\n",
       "      <td>NaN</td>\n",
       "      <td>NaN</td>\n",
       "      <td>NaN</td>\n",
       "    </tr>\n",
       "    <tr>\n",
       "      <th>4</th>\n",
       "      <td>2023-01-05</td>\n",
       "      <td>56</td>\n",
       "      <td>36</td>\n",
       "      <td>0.00</td>\n",
       "      <td>NaN</td>\n",
       "      <td>NaN</td>\n",
       "      <td>NaN</td>\n",
       "    </tr>\n",
       "  </tbody>\n",
       "</table>\n",
       "</div>"
      ],
      "text/plain": [
       "         Day  High (°F)  Low (°F)  Precip.  Unnamed: 4  Unnamed: 5  Unnamed: 6\n",
       "0 2023-01-01         70        45     0.00         NaN         NaN         NaN\n",
       "1 2023-01-02         75        53     0.04         NaN         NaN         NaN\n",
       "2 2023-01-03         71        58     1.53         NaN         NaN         NaN\n",
       "3 2023-01-04         65        45     0.07         NaN         NaN         NaN\n",
       "4 2023-01-05         56        36     0.00         NaN         NaN         NaN"
      ]
     },
     "execution_count": 49,
     "metadata": {},
     "output_type": "execute_result"
    }
   ],
   "source": [
    "weather2023_df.head()"
   ]
  },
  {
   "cell_type": "code",
   "execution_count": 50,
   "id": "b05839d0",
   "metadata": {},
   "outputs": [],
   "source": [
    "weather2023_df=weather2023_df.drop(columns=['Unnamed: 4', 'Unnamed: 5', 'Unnamed: 6'])"
   ]
  },
  {
   "cell_type": "code",
   "execution_count": 51,
   "id": "4a581c7a",
   "metadata": {},
   "outputs": [
    {
     "name": "stdout",
     "output_type": "stream",
     "text": [
      "           Day  High (°F)  Low (°F)  Precip.\n",
      "0   2023-01-01         70        45     0.00\n",
      "1   2023-01-02         75        53     0.04\n",
      "2   2023-01-03         71        58     1.53\n",
      "3   2023-01-04         65        45     0.07\n",
      "4   2023-01-05         56        36     0.00\n",
      "..         ...        ...       ...      ...\n",
      "359 2023-12-27         53        32     0.00\n",
      "360 2023-12-28         44        31     0.00\n",
      "361 2023-12-29         41        37     0.00\n",
      "362 2023-12-30         41        31     0.00\n",
      "363 2023-12-31         59        32     0.00\n",
      "\n",
      "[364 rows x 4 columns]\n"
     ]
    }
   ],
   "source": [
    "print(weather2023_df)"
   ]
  },
  {
   "cell_type": "code",
   "execution_count": null,
   "id": "40cea6d4",
   "metadata": {},
   "outputs": [],
   "source": []
  }
 ],
 "metadata": {
  "kernelspec": {
   "display_name": "Python 3 (ipykernel)",
   "language": "python",
   "name": "python3"
  },
  "language_info": {
   "codemirror_mode": {
    "name": "ipython",
    "version": 3
   },
   "file_extension": ".py",
   "mimetype": "text/x-python",
   "name": "python",
   "nbconvert_exporter": "python",
   "pygments_lexer": "ipython3",
   "version": "3.11.5"
  }
 },
 "nbformat": 4,
 "nbformat_minor": 5
}
